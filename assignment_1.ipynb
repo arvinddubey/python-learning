{
 "cells": [
  {
   "cell_type": "markdown",
   "metadata": {},
   "source": [
    "\n",
    "1. In the below elements which of them are values or an expression? eg:- values can be integer or string and expressions will be mathematical operators.\n",
    "\t1. \\*\n",
    "\t2. 'hello'\n",
    "\t3. -87.8\n",
    "\t4. \\-\n",
    "\t5. \\/\n",
    "\t6. \\+\n",
    "\t7. 6\n",
    "\t\n",
    " \t**Ans:** * ,-, /, and + are the expressions, whereas 'hello', -87.8, and 6 are values.\n",
    "\n",
    "2. What is the difference between string and variable?\n",
    "\n",
    "\t**Ans:** String is avalue, whereas varilble is a container, and it can hold any type of value.\n",
    "\n",
    "3. Describe three different data types.\n",
    "\t\n",
    "\t**Ans:** The three data types are below -\n",
    "\t\t\n",
    "\t\t1. string - Any value surrounded by single quote or double quote. Also it be surrounded by three double quotation mark.\n",
    "\t\t2. integer - Any decimal numbers.\n",
    "\t\t3. float - Non decimal numbers.\n",
    "\n",
    "4. What is an expression made up of? What do all expressions do?\n",
    "\n",
    "\t**Ans:** Expression can be made of using mathematical operators and operants or variables. Expression always returns the calculated value.\n",
    "\n",
    "5. This assignment statements, like spam = 10. What is the difference between an expression and a statement?\n",
    "\t**Ans:** Expression can be made of using mathematical operators and operants or variables and it always returns the calculated value. Where as statment could be a general command which does the intendend task - for exampel - print statement, assignment statment, etc.\n",
    "\n",
    "6. After running the following code, what does the variable bacon contain?\n",
    "\n",
    "\tbacon = 22\n",
    "\n",
    "\tbacon + 1\n",
    "\n",
    "\t**Ans:** It will contain 22 only.\n",
    "  \n",
    "\n",
    "7. What should the values of the following two terms be?\n",
    "\n",
    "\t&#39;spam&#39; + &#39;spamspam&#39;\n",
    "\n",
    "\t&#39;spam&#39; * 3\n",
    "\n",
    "  \t**Ans:** Both the above statments should give values as **spamspamspam**\n",
    "\n",
    "8. Why is eggs a valid variable name while 100 is invalid?\n",
    "\t\n",
    "\t**Ans:** variable name cannot start with numberic value. \n",
    "  \n",
    "\n",
    "9. What three functions can be used to get the integer, floating-point number, or string version of a value?\n",
    "\t\n",
    "\t**Ans:** int(value), float(value), str(value)\n",
    "\n",
    "10. Why does this expression cause an error? How can you fix it?\n",
    "\t&#39;I have eaten &#39; + 99 + &#39; burritos.&#39;\n",
    "\t\n",
    "\t**Ans:** The above statment is trying to addition operation between two different data types(i.e. string and number) which is not allowed.\n"
   ]
  }
 ],
 "metadata": {
  "kernelspec": {
   "display_name": "Python 3.9.6 64-bit",
   "language": "python",
   "name": "python3"
  },
  "language_info": {
   "codemirror_mode": {
    "name": "ipython",
    "version": 3
   },
   "file_extension": ".py",
   "mimetype": "text/x-python",
   "name": "python",
   "nbconvert_exporter": "python",
   "pygments_lexer": "ipython3",
   "version": "3.9.6"
  },
  "orig_nbformat": 4,
  "vscode": {
   "interpreter": {
    "hash": "31f2aee4e71d21fbe5cf8b01ff0e069b9275f58929596ceb00d14d90e3e16cd6"
   }
  }
 },
 "nbformat": 4,
 "nbformat_minor": 2
}
