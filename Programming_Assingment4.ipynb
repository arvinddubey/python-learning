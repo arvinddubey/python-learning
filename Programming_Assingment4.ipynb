{
 "cells": [
  {
   "cell_type": "code",
   "execution_count": 11,
   "metadata": {},
   "outputs": [
    {
     "name": "stdout",
     "output_type": "stream",
     "text": [
      "120\n"
     ]
    }
   ],
   "source": [
    "#1. Write a Python Program to Find the Factorial of a Number?\n",
    "\n",
    "def factorial(number):\n",
    "    if number == 0 or number == 1:\n",
    "        return 1;\n",
    "\n",
    "    x = factorial(number-1) * number\n",
    "    return x;\n",
    "\n",
    "print(factorial(5))"
   ]
  },
  {
   "cell_type": "code",
   "execution_count": 54,
   "metadata": {},
   "outputs": [
    {
     "name": "stdout",
     "output_type": "stream",
     "text": [
      "1     2     3     4     5     6     7     8     9    10    11    12    13    14    15    16    17    18    19    20\n",
      "2     4     6     8    10    12    14    16    18    20    22    24    26    28    30    32    34    36    38    40\n",
      "3     6     9    12    15    18    21    24    27    30    33    36    39    42    45    48    51    54    57    60\n",
      "4     8    12    16    20    24    28    32    36    40    44    48    52    56    60    64    68    72    76    80\n",
      "5    10    15    20    25    30    35    40    45    50    55    60    65    70    75    80    85    90    95   100\n",
      "6    12    18    24    30    36    42    48    54    60    66    72    78    84    90    96   102   108   114   120\n",
      "7    14    21    28    35    42    49    56    63    70    77    84    91    98   105   112   119   126   133   140\n",
      "8    16    24    32    40    48    56    64    72    80    88    96   104   112   120   128   136   144   152   160\n",
      "9    18    27    36    45    54    63    72    81    90    99   108   117   126   135   144   153   162   171   180\n",
      "10    20    30    40    50    60    70    80    90   100   110   120   130   140   150   160   170   180   190   200\n"
     ]
    }
   ],
   "source": [
    "#2. Write a Python Program to Display the multiplication Table?\n",
    "def multiplication_table(number):\n",
    "    if number < 2 or number > 20 :\n",
    "        print(\"Please enter any number between 2 to 20\")\n",
    "        return\n",
    "\n",
    "    for i in range(1, 11):\n",
    "        j = 1;\n",
    "        x = ''\n",
    "        while(j <= number):\n",
    "            # print(f)\n",
    "            t = str(i*j)\n",
    "            digit_count = len(t)\n",
    "            if digit_count  == 1:\n",
    "                adj_space =  ' ' * 5\n",
    "            elif digit_count == 2:\n",
    "                adj_space =  ' ' * 4\n",
    "            else:\n",
    "                adj_space =  ' ' * 3\n",
    "            # adj_space =  ' ' * 3 if digit_count  == 1 else ' ' * ( 5 - digit_count )\n",
    "            x += (adj_space + t) if x != '' else t\n",
    "            j+=1\n",
    "        print(x)\n",
    "    \n",
    "        \n",
    "        \n",
    "\n",
    "\n",
    "\n",
    "multiplication_table(20)"
   ]
  },
  {
   "cell_type": "code",
   "execution_count": 68,
   "metadata": {},
   "outputs": [
    {
     "name": "stdout",
     "output_type": "stream",
     "text": [
      "0\n",
      "1\n",
      "1\n"
     ]
    }
   ],
   "source": [
    "#3. Write a Python Program to Print the Fibonacci sequence?\n",
    "def fibonacci_sequence(term):\n",
    "    n1,n2=0,1\n",
    "    i=0\n",
    "    if(term <= 0):\n",
    "        print('Please enter some positive number')\n",
    "\n",
    "    while(i < term):\n",
    "        if i == 0:\n",
    "            print(n1)\n",
    "        elif i== 1 :\n",
    "            print(n2)\n",
    "        else:\n",
    "            n = n1 + n2\n",
    "            n1 = n2\n",
    "            n2 = n\n",
    "            print(n)\n",
    "        i+=1      \n",
    "\n",
    "    \n",
    "fibonacci_sequence(3)"
   ]
  },
  {
   "cell_type": "code",
   "execution_count": null,
   "metadata": {},
   "outputs": [],
   "source": []
  },
  {
   "cell_type": "code",
   "execution_count": 76,
   "metadata": {},
   "outputs": [
    {
     "data": {
      "text/plain": [
       "True"
      ]
     },
     "execution_count": 76,
     "metadata": {},
     "output_type": "execute_result"
    }
   ],
   "source": [
    "#4. Write a Python Program to Check Armstrong Number?\n",
    "def is_armstrong_number(number):\n",
    "    depth = len(str(number))\n",
    "    digit_sum = 0\n",
    "    n = number\n",
    "    while(n):\n",
    "        digit = n%10\n",
    "        digit_sum += (digit**depth)\n",
    "        n = int(n/10)\n",
    "\n",
    "    return True if(digit_sum == number) else False\n",
    "\n",
    "is_armstrong_number(153)\n"
   ]
  },
  {
   "cell_type": "code",
   "execution_count": 78,
   "metadata": {},
   "outputs": [
    {
     "name": "stdout",
     "output_type": "stream",
     "text": [
      "[153, 370, 371, 407, 1634, 8208, 9474]\n"
     ]
    }
   ],
   "source": [
    "#5. Write a Python Program to Find Armstrong Number in an Interval?\n",
    "arm_strongnumbers = filter(is_armstrong_number, range(100, 10000))\n",
    "print(list(arm_strongnumbers))"
   ]
  },
  {
   "cell_type": "code",
   "execution_count": 84,
   "metadata": {},
   "outputs": [
    {
     "name": "stdout",
     "output_type": "stream",
     "text": [
      "sum of 100 natural number is 5050\n"
     ]
    }
   ],
   "source": [
    "#6. Write a Python Program to Find the Sum of Natural Numbers?\n",
    "def natural_number(number):\n",
    "    s = (number*(number+1))//2\n",
    "    print(f\"sum of {number} natural number is {s}\")\n",
    "\n",
    "natural_number(100)"
   ]
  },
  {
   "cell_type": "code",
   "execution_count": null,
   "metadata": {},
   "outputs": [],
   "source": []
  }
 ],
 "metadata": {
  "kernelspec": {
   "display_name": "Python 3.9.6 64-bit",
   "language": "python",
   "name": "python3"
  },
  "language_info": {
   "codemirror_mode": {
    "name": "ipython",
    "version": 3
   },
   "file_extension": ".py",
   "mimetype": "text/x-python",
   "name": "python",
   "nbconvert_exporter": "python",
   "pygments_lexer": "ipython3",
   "version": "3.9.6"
  },
  "orig_nbformat": 4,
  "vscode": {
   "interpreter": {
    "hash": "31f2aee4e71d21fbe5cf8b01ff0e069b9275f58929596ceb00d14d90e3e16cd6"
   }
  }
 },
 "nbformat": 4,
 "nbformat_minor": 2
}
