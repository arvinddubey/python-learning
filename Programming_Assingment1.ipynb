{
 "cells": [
  {
   "cell_type": "code",
   "execution_count": 1,
   "metadata": {},
   "outputs": [
    {
     "name": "stdout",
     "output_type": "stream",
     "text": [
      "Hello Python\n"
     ]
    }
   ],
   "source": [
    "#Write a Python program to print \"Hello Python\"?\n",
    "print(\"Hello Python\")"
   ]
  },
  {
   "cell_type": "code",
   "execution_count": 3,
   "metadata": {},
   "outputs": [
    {
     "name": "stdout",
     "output_type": "stream",
     "text": [
      "15\n",
      "2.0\n",
      "2\n"
     ]
    }
   ],
   "source": [
    "#Write a Python program to do arithmetical operations addition and division.?\n",
    "a, b = 10 , 5\n",
    "print(a + b)\n",
    "print( a / b)\n",
    "print( a // b)"
   ]
  },
  {
   "cell_type": "code",
   "execution_count": 4,
   "metadata": {},
   "outputs": [
    {
     "name": "stdout",
     "output_type": "stream",
     "text": [
      "Area of triangle is 3.0\n"
     ]
    }
   ],
   "source": [
    "# Write a Python program to find the area of a triangle?\n",
    "\n",
    "def triangle_area(hight, base):\n",
    "    area = (hight * base)/2\n",
    "    print(f\"Area of triangle is {area}\")\n",
    "\n",
    "triangle_area(2, 3)"
   ]
  },
  {
   "cell_type": "code",
   "execution_count": 7,
   "metadata": {},
   "outputs": [
    {
     "name": "stdout",
     "output_type": "stream",
     "text": [
      "3\n",
      "5\n"
     ]
    }
   ],
   "source": [
    "# Write a Python program to swap two variables?\n",
    "a, b = 5, 3\n",
    "a = a + b\n",
    "b = a - b\n",
    "a = a - b\n",
    "print(a)\n",
    "print(b)"
   ]
  },
  {
   "cell_type": "code",
   "execution_count": 7,
   "metadata": {},
   "outputs": [
    {
     "name": "stdout",
     "output_type": "stream",
     "text": [
      "ZvDuH\n"
     ]
    }
   ],
   "source": [
    "# Write a Python program to generate a random number?\n",
    "import random\n",
    "chars = 'abcdefghijklmnopqrstuvwxyzABCDEFGHIJKLMNOPQRSTUVWXYZ0123456789'\n",
    "length = int(input('Enter the length of the string which you want to generate - \\n'))\n",
    "text = []\n",
    "if length > 0:\n",
    "    for i in range(length):\n",
    "        text.append(random.choice(chars))\n",
    "\n",
    "    data = \"\".join(text)\n",
    "    print(data)\n",
    "else:\n",
    "    print(\"Please enter numberic and non zero number\")\n",
    "\n"
   ]
  }
 ],
 "metadata": {
  "kernelspec": {
   "display_name": "Python 3.9.6 64-bit",
   "language": "python",
   "name": "python3"
  },
  "language_info": {
   "codemirror_mode": {
    "name": "ipython",
    "version": 3
   },
   "file_extension": ".py",
   "mimetype": "text/x-python",
   "name": "python",
   "nbconvert_exporter": "python",
   "pygments_lexer": "ipython3",
   "version": "3.9.6"
  },
  "orig_nbformat": 4,
  "vscode": {
   "interpreter": {
    "hash": "31f2aee4e71d21fbe5cf8b01ff0e069b9275f58929596ceb00d14d90e3e16cd6"
   }
  }
 },
 "nbformat": 4,
 "nbformat_minor": 2
}
