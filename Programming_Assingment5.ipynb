{
 "cells": [
  {
   "cell_type": "code",
   "execution_count": 12,
   "metadata": {},
   "outputs": [
    {
     "name": "stdout",
     "output_type": "stream",
     "text": [
      "15\n"
     ]
    }
   ],
   "source": [
    "#1. Write a Python Program to Find LCM?\n",
    "def lcm_of_two_numbers(n1, n2):\n",
    "    greater_number = n1 if n1 > n2 else n2\n",
    "    lcm = 0\n",
    "    while(True):\n",
    "        if(greater_number % n1 == 0) and (greater_number % n2 == 0):\n",
    "            lcm = greater_number\n",
    "            break\n",
    "        greater_number += 1\n",
    "\n",
    "    return lcm\n",
    "\n",
    "\n",
    "print(lcm_of_two_numbers(15, 3))"
   ]
  },
  {
   "cell_type": "code",
   "execution_count": 20,
   "metadata": {},
   "outputs": [
    {
     "name": "stdout",
     "output_type": "stream",
     "text": [
      "2\n"
     ]
    }
   ],
   "source": [
    "# 2. Write a Python Program to Find HCF?\n",
    "def hcm_of_two_numbers(n1, n2):\n",
    "    hcm = 1\n",
    "    start_with = 2\n",
    "    while(True):\n",
    "        if( n1 % start_with == 0) and (n2 % start_with == 0):\n",
    "            hcm = start_with\n",
    "            break\n",
    "\n",
    "        start_with += 1\n",
    "\n",
    "    return hcm\n",
    "\n",
    "\n",
    "print(hcm_of_two_numbers(20, 40))"
   ]
  },
  {
   "cell_type": "code",
   "execution_count": 33,
   "metadata": {},
   "outputs": [
    {
     "name": "stdout",
     "output_type": "stream",
     "text": [
      "Binary of 234 is 0b11101010\n",
      "Octal of 234 is 0o352\n",
      "Hexadecimal of 234 is 0xea\n"
     ]
    }
   ],
   "source": [
    "# 3. Write a Python Program to Convert Decimal to Binary, Octal and Hexadecimal?\n",
    "def decimal_to_binary_octal_hex(num):\n",
    "    print(f\"Binary of {num} is {bin(num)}\")\n",
    "    print(f\"Octal of {num} is {oct(num)}\")\n",
    "    print(f\"Hexadecimal of {num} is {hex(num)}\")\n",
    "\n",
    "decimal_to_binary_octal_hex(234)"
   ]
  },
  {
   "cell_type": "code",
   "execution_count": 2,
   "metadata": {},
   "outputs": [
    {
     "name": "stdout",
     "output_type": "stream",
     "text": [
      "ASCII value of a is 97\n"
     ]
    }
   ],
   "source": [
    "# 4. Write a Python Program To Find ASCII value of a character?\n",
    "char = input(\"Please enter a character for which you want to get ASCII value \\n\")\n",
    "ascii_value = ord(char)\n",
    "print(f\"ASCII value of {char} is {ascii_value}\")"
   ]
  },
  {
   "cell_type": "code",
   "execution_count": 7,
   "metadata": {},
   "outputs": [
    {
     "name": "stdout",
     "output_type": "stream",
     "text": [
      "4 / 2 = 2.0\n"
     ]
    }
   ],
   "source": [
    "# 5. Write a Python Program to Make a Simple Calculator with 4 basic mathematical operations?\n",
    "n1 = int(input('Enter first number \\n'))\n",
    "n2 = int(input('Enter second number \\n'))\n",
    "operator = input(\"Enter the sign of operators - +, _, *, / \\n\")\n",
    "\n",
    "if operator == '+':\n",
    "    print(f\"{n1} + {n2} = {(n1+ n2)}\")\n",
    "elif operator == '-':\n",
    "    print(f\"{n1} - {n2} = {(n1 - n2)}\")\n",
    "elif operator == '*':\n",
    "    print(f\"{n1} * {n2} = {(n1 * n2)}\")\n",
    "elif operator == '/':\n",
    "    print(f\"{n1} / {n2} = {(n1 / n2)}\")\n",
    "else:\n",
    "    print(\"The entered operator {operator} is invalid\")"
   ]
  }
 ],
 "metadata": {
  "kernelspec": {
   "display_name": "Python 3.9.6 64-bit",
   "language": "python",
   "name": "python3"
  },
  "language_info": {
   "codemirror_mode": {
    "name": "ipython",
    "version": 3
   },
   "file_extension": ".py",
   "mimetype": "text/x-python",
   "name": "python",
   "nbconvert_exporter": "python",
   "pygments_lexer": "ipython3",
   "version": "3.9.6"
  },
  "orig_nbformat": 4,
  "vscode": {
   "interpreter": {
    "hash": "31f2aee4e71d21fbe5cf8b01ff0e069b9275f58929596ceb00d14d90e3e16cd6"
   }
  }
 },
 "nbformat": 4,
 "nbformat_minor": 2
}
