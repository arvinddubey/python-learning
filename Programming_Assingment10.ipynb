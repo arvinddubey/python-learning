{
 "cells": [
  {
   "cell_type": "code",
   "execution_count": 1,
   "metadata": {},
   "outputs": [
    {
     "name": "stdout",
     "output_type": "stream",
     "text": [
      "sum of [1, 2, 3] is 6\n"
     ]
    }
   ],
   "source": [
    "# 1. Write a Python program to find sum of elements in list?\n",
    "l = [1,2,3]\n",
    "s = sum(l)\n",
    "print(f\"sum of {l} is {s}\")"
   ]
  },
  {
   "cell_type": "code",
   "execution_count": 4,
   "metadata": {},
   "outputs": [
    {
     "name": "stdout",
     "output_type": "stream",
     "text": [
      "multiplication of [1, 2, 3, 4] is 24\n"
     ]
    }
   ],
   "source": [
    "# 2. Write a Python program to Multiply all numbers in the list?\n",
    "l = [1,2,3,4]\n",
    "m = 1\n",
    "for i in l:\n",
    "    m = m * i\n",
    "print(f\"multiplication of {l} is {m}\")"
   ]
  },
  {
   "cell_type": "code",
   "execution_count": 5,
   "metadata": {},
   "outputs": [
    {
     "name": "stdout",
     "output_type": "stream",
     "text": [
      "smallest number in [1, 2, 3, 4] is 1\n"
     ]
    }
   ],
   "source": [
    "# 3. Write a Python program to find smallest number in a list?\n",
    "l = [1,2,3,4]\n",
    "m = min(l)\n",
    "print(f\"smallest number in {l} is {m}\")"
   ]
  },
  {
   "cell_type": "code",
   "execution_count": 6,
   "metadata": {},
   "outputs": [
    {
     "name": "stdout",
     "output_type": "stream",
     "text": [
      "largest number in [1, 2, 3, 4] is 4\n"
     ]
    }
   ],
   "source": [
    "# 4. Write a Python program to find largest number in a list?\n",
    "l = [1,2,3,4]\n",
    "m = max(l)\n",
    "print(f\"largest number in {l} is {m}\")"
   ]
  },
  {
   "cell_type": "code",
   "execution_count": 11,
   "metadata": {},
   "outputs": [
    {
     "name": "stdout",
     "output_type": "stream",
     "text": [
      "largest number in <built-in method copy of list object at 0x1076a4900> is 3\n"
     ]
    }
   ],
   "source": [
    "# 5. Write a Python program to find second largest number in a list?\n",
    "l = [1,2,3,4]\n",
    "l1 = l.copy\n",
    "m = max(l)\n",
    "l.remove(m)\n",
    "m1 = max(l)\n",
    "print(f\"largest number in {l1} is {m1}\")"
   ]
  },
  {
   "cell_type": "code",
   "execution_count": 7,
   "metadata": {},
   "outputs": [
    {
     "name": "stdout",
     "output_type": "stream",
     "text": [
      "The 3rd largest number in list [2, 4, 1, 6, 5] is 5\n"
     ]
    }
   ],
   "source": [
    "# 6. Write a Python program to find N largest elements from a list?\n",
    "def give_nth_largest_value(list_data, n):\n",
    "    s = set((list_data))\n",
    "    return list(s)[n]\n",
    "\n",
    "l = [2,4,1,6, 5]\n",
    "d = give_nth_largest_value(l, 3)\n",
    "print(f'The 3rd largest number in list {l} is {d}')"
   ]
  },
  {
   "cell_type": "markdown",
   "metadata": {},
   "source": []
  },
  {
   "cell_type": "code",
   "execution_count": 11,
   "metadata": {},
   "outputs": [
    {
     "name": "stdout",
     "output_type": "stream",
     "text": [
      "Even numbers in list [2, 3, 4, 5, 6, 8] are [2, 4, 6, 8]\n"
     ]
    }
   ],
   "source": [
    "# 7. Write a Python program to print even numbers in a list?\n",
    "def even_number(n):\n",
    "    if n % 2 == 0:\n",
    "        return True\n",
    "    else:\n",
    "        return False\n",
    "\n",
    "def display_even_numbers(l):\n",
    "    numbers  = filter(even_number, l)\n",
    "    print(f\"Even numbers in list {l} are {list(numbers)}\")\n",
    "\n",
    "display_even_numbers([2,3,4,5,6,8])"
   ]
  },
  {
   "cell_type": "code",
   "execution_count": 14,
   "metadata": {},
   "outputs": [
    {
     "name": "stdout",
     "output_type": "stream",
     "text": [
      "Odd numbers in list [2, 3, 4, 5, 6, 8] are [3, 5]\n"
     ]
    }
   ],
   "source": [
    "# 8. Write a Python program to print odd numbers in a List?\n",
    "def odd_number(n):\n",
    "    if n % 2 == 0:\n",
    "        return False\n",
    "    else:\n",
    "        return True\n",
    "\n",
    "def display_odd_numbers(l):\n",
    "    numbers  = filter(odd_number, l)\n",
    "    print(f\"Odd numbers in list {l} are {list(numbers)}\")\n",
    "\n",
    "display_odd_numbers([2,3,4,5,6,8])"
   ]
  },
  {
   "cell_type": "code",
   "execution_count": 32,
   "metadata": {},
   "outputs": [
    {
     "name": "stdout",
     "output_type": "stream",
     "text": [
      "[1, 2, [2, 3], 4, 5]\n",
      "[1, 2, [2, 3], 4, 5]\n"
     ]
    }
   ],
   "source": [
    "# 9. Write a Python program to Remove empty List from List?\n",
    "def remove_empty_list(list):\n",
    "    for index, item in enumerate(list):\n",
    "        if type(item) == type(list) and len(item)==0:\n",
    "            list.remove(item)\n",
    "    return list\n",
    "\n",
    "print(remove_empty_list([1,2,[2,3],4,[],5]))\n",
    "\n",
    "#Another approach\n",
    "list2 = filter(None, [1,2,[2,3],4,[],5])\n",
    "print(list(list2))"
   ]
  },
  {
   "cell_type": "code",
   "execution_count": 41,
   "metadata": {},
   "outputs": [
    {
     "name": "stdout",
     "output_type": "stream",
     "text": [
      "[1, 2, 3, 6, 8, 9]\n",
      "[1, 2, 3, 6, 8, 9]\n",
      "[1, 2, 3, 6, 8, 9, 10]\n",
      "[1, 2, 3, 6, 8, 9]\n",
      "[1, 2, 3, 6, 8, 9]\n"
     ]
    }
   ],
   "source": [
    "# 10. Write a Python program to Cloning or Copying a list?\n",
    "l1 = [1,2,3,6,8,9]\n",
    "l2 = l1.copy()\n",
    "print(l2)\n",
    "l3 = list(l1)\n",
    "print(l3)\n",
    "l1.append(10)\n",
    "print(l1)\n",
    "print(l2)\n",
    "print(l3)"
   ]
  },
  {
   "cell_type": "code",
   "execution_count": 49,
   "metadata": {},
   "outputs": [
    {
     "name": "stdout",
     "output_type": "stream",
     "text": [
      "Element and its counts are below\n",
      "count for 1 is 2\n",
      "count for 2 is 2\n",
      "count for 3 is 1\n",
      "count for 4 is 1\n",
      "count for 5 is 3\n",
      "count for 7 is 1\n"
     ]
    }
   ],
   "source": [
    "# 11. Write a Python program to Count occurrences of an element in a list?\n",
    "def element_counts_in_list(list):\n",
    "    elements = dict()\n",
    "    for i in list:\n",
    "        if(type(i) == int or type(i) == float or type(i) == str):\n",
    "            if i in elements:\n",
    "                elements[i] += 1\n",
    "            else:\n",
    "                elements[i] = 1\n",
    "\n",
    "    print(\"Element and its counts are below\")\n",
    "    for item in elements:\n",
    "        print(f\"count for {item} is {elements[item]}\")\n",
    "\n",
    "\n",
    "element_counts_in_list([1,2,3,2,4,5,5,5,1,7])"
   ]
  }
 ],
 "metadata": {
  "kernelspec": {
   "display_name": "Python 3.9.6 64-bit",
   "language": "python",
   "name": "python3"
  },
  "language_info": {
   "codemirror_mode": {
    "name": "ipython",
    "version": 3
   },
   "file_extension": ".py",
   "mimetype": "text/x-python",
   "name": "python",
   "nbconvert_exporter": "python",
   "pygments_lexer": "ipython3",
   "version": "3.9.6"
  },
  "orig_nbformat": 4,
  "vscode": {
   "interpreter": {
    "hash": "31f2aee4e71d21fbe5cf8b01ff0e069b9275f58929596ceb00d14d90e3e16cd6"
   }
  }
 },
 "nbformat": 4,
 "nbformat_minor": 2
}
