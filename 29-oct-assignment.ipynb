{
 "cells": [
  {
   "cell_type": "code",
   "execution_count": 1,
   "metadata": {},
   "outputs": [
    {
     "name": "stdout",
     "output_type": "stream",
     "text": [
      "4\n"
     ]
    }
   ],
   "source": [
    "def strlen(txt):\n",
    "    \"\"\"it will find out len of a string without using an inbuilt len function\"\"\"\n",
    "    if type(txt) != str:\n",
    "        print('The provided input is not type of string')\n",
    "    i = 0\n",
    "    for s in txt:\n",
    "        i = i + 1\n",
    "    print(i)\n",
    "\n",
    "strlen('abcd')"
   ]
  },
  {
   "cell_type": "code",
   "execution_count": 3,
   "metadata": {},
   "outputs": [
    {
     "name": "stdout",
     "output_type": "stream",
     "text": [
      "index of 1 is 0 \n",
      "index of 3 is 1 \n",
      "index of 5 is 2 \n",
      "index of arvind is 3 \n",
      "index of test is 4 \n"
     ]
    }
   ],
   "source": [
    "def print_index(list):\n",
    "    \"\"\"it  will be able to print an index of list element without using an index function\"\"\"\n",
    "    j = 0\n",
    "    for i in list:\n",
    "        print(f\"index of {i} is {j} \")\n",
    "        j+= 1\n",
    "\n",
    "l = [1,3,5, 'arvind', 'test']\n",
    "\n",
    "print_index(l)\n",
    "\n"
   ]
  },
  {
   "cell_type": "code",
   "execution_count": 7,
   "metadata": {},
   "outputs": [
    {
     "name": "stdout",
     "output_type": "stream",
     "text": [
      "IP address is 127.0.0.1\n"
     ]
    }
   ],
   "source": [
    "def my_ip_address():\n",
    "    \"\"\"it will be able to print an ip address of your system\"\"\"\n",
    "    import socket\n",
    "    hostname = socket.gethostname()\n",
    "    ipaddress  = socket.gethostbyname(hostname)\n",
    "    print(f\"IP address is {ipaddress}\")\n",
    "\n",
    "my_ip_address()"
   ]
  },
  {
   "cell_type": "code",
   "execution_count": 1,
   "metadata": {},
   "outputs": [
    {
     "name": "stderr",
     "output_type": "stream",
     "text": [
      "shutdown: NOT super-user\n"
     ]
    }
   ],
   "source": [
    "def shutdown_system():\n",
    "    \"\"\"write a function which will shutdown your system\"\"\"\n",
    "    import os\n",
    "    os.system(\"shutdown /s\")\n",
    "\n",
    "shutdown_system()"
   ]
  },
  {
   "cell_type": "code",
   "execution_count": 12,
   "metadata": {},
   "outputs": [
    {
     "name": "stdout",
     "output_type": "stream",
     "text": [
      "459.19999999999993\n"
     ]
    }
   ],
   "source": [
    "def multiply_list_items(items):\n",
    "    \"\"\"It will take input as a list with any kind of numeric value and give an out as a multiplication of \n",
    "all the numeric data\"\"\"\n",
    "    total = None\n",
    "    for i in items:\n",
    "        if type(i) in [int, float]:\n",
    "            if total == None:\n",
    "                total = i\n",
    "                continue\n",
    "            \n",
    "            total = total * i\n",
    "\n",
    "    return total\n",
    "\n",
    "l = [3.5, 6.56, 4,5,\"sudh\" , \"ineuron\" , 'fsda bootcamp 2.0']\n",
    "data = multiply_list_items(l)\n",
    "print(data)"
   ]
  },
  {
   "cell_type": "code",
   "execution_count": null,
   "metadata": {},
   "outputs": [],
   "source": [
    "def read_mail():\n",
    "    \"\"\"It will be able to read all the mails \"\"\"\n",
    "    pass\n"
   ]
  },
  {
   "cell_type": "code",
   "execution_count": null,
   "metadata": {},
   "outputs": [],
   "source": [
    "def send_mail():\n",
    "    \"\"\"write a function which will be able to send a mail to anyone\"\"\"\n",
    "    pass\n"
   ]
  },
  {
   "cell_type": "code",
   "execution_count": 19,
   "metadata": {},
   "outputs": [],
   "source": [
    "def read_doc_file(file_path):\n",
    "    \"\"\"It will be able to read a doc/word file from your system \"\"\"\n",
    "    # f = open(file_path, 'r')\n",
    "    # text = f.read()\n",
    "    # print(text)\n",
    "    pass\n",
    "\n",
    "read_doc_file(\"/Users/arvind.dubey/Documents/RoR-Form-Sanjay_Dora-1-Round.docx\")"
   ]
  },
  {
   "cell_type": "code",
   "execution_count": null,
   "metadata": {},
   "outputs": [],
   "source": []
  }
 ],
 "metadata": {
  "kernelspec": {
   "display_name": "Python 3.9.6 64-bit",
   "language": "python",
   "name": "python3"
  },
  "language_info": {
   "codemirror_mode": {
    "name": "ipython",
    "version": 3
   },
   "file_extension": ".py",
   "mimetype": "text/x-python",
   "name": "python",
   "nbconvert_exporter": "python",
   "pygments_lexer": "ipython3",
   "version": "3.9.6"
  },
  "orig_nbformat": 4,
  "vscode": {
   "interpreter": {
    "hash": "31f2aee4e71d21fbe5cf8b01ff0e069b9275f58929596ceb00d14d90e3e16cd6"
   }
  }
 },
 "nbformat": 4,
 "nbformat_minor": 2
}
