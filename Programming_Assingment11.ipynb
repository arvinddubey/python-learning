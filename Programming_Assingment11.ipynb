{
 "cells": [
  {
   "cell_type": "code",
   "execution_count": 1,
   "metadata": {},
   "outputs": [
    {
     "name": "stdout",
     "output_type": "stream",
     "text": [
      "Words greater than 3 in length are ['guys,', 'this', 'testig']\n"
     ]
    }
   ],
   "source": [
    "# 1. Write a Python program to find words which are greater than given length k?\n",
    "def find_words_with_length(sentance, length):\n",
    "    words = sentance.split(' ')\n",
    "    result = filter(lambda w: (len(w) > length ), words)\n",
    "    print(f\"Words greater than {length} in length are {list(result)}\")\n",
    "\n",
    "find_words_with_length('Hi guys, this is the testig', 3)"
   ]
  },
  {
   "cell_type": "code",
   "execution_count": 4,
   "metadata": {},
   "outputs": [
    {
     "name": "stdout",
     "output_type": "stream",
     "text": [
      "tesing_string\n"
     ]
    }
   ],
   "source": [
    "# 2. Write a Python program for removing i-th character from a string?\n",
    "def remove_ith_chareacter(word, i):\n",
    "    first = word[:i]\n",
    "    second = word[i+1:]\n",
    "    return first + second\n",
    "\n",
    "s = remove_ith_chareacter('testing_string', 3)\n",
    "print(s)"
   ]
  },
  {
   "cell_type": "code",
   "execution_count": 15,
   "metadata": {},
   "outputs": [
    {
     "name": "stdout",
     "output_type": "stream",
     "text": [
      "Spliting the word -\n",
      "['H', 'e', 'l', 'l', 'o']\n",
      "Join the word - \n",
      "Hello\n"
     ]
    }
   ],
   "source": [
    "# 3. Write a Python program to split and join a string?\n",
    "print('Spliting the word -')\n",
    "s = list('Hello')\n",
    "print(s)\n",
    "print('Join the word - ')\n",
    "print(''.join(s))"
   ]
  },
  {
   "cell_type": "code",
   "execution_count": 18,
   "metadata": {},
   "outputs": [
    {
     "name": "stdout",
     "output_type": "stream",
     "text": [
      "010101111 is a binary string\n"
     ]
    }
   ],
   "source": [
    "# 4. Write a Python to check if a given string is binary string or not?\n",
    "def is_binary(s):\n",
    "    binary_characters = '01'\n",
    "    binary = True\n",
    "    for c in s:\n",
    "        if not c in binary_characters:\n",
    "            binary = False\n",
    "            break\n",
    "\n",
    "    return binary\n",
    "\n",
    "s = '010101111'\n",
    "if is_binary(s):\n",
    "    print(f\"{s} is a binary string\")\n",
    "else: \n",
    "    print(f\"{s} is not a binary string\")\n"
   ]
  },
  {
   "cell_type": "code",
   "execution_count": 21,
   "metadata": {},
   "outputs": [
    {
     "name": "stdout",
     "output_type": "stream",
     "text": [
      "Uncommon words are {'Hello,', 'Hey,'}\n"
     ]
    }
   ],
   "source": [
    "# 5. Write a Python program to find uncommon words from two Strings?\n",
    "def uncommon_words(s1, s2):\n",
    "    w1 = s1.split(' ')\n",
    "    w2 = s2.split(' ')\n",
    "    uncommon = set(w1) ^ set(w2)\n",
    "    print(f'Uncommon words are {uncommon}')\n",
    "\n",
    "uncommon_words('Hey, how are you?', 'Hello, how are you?')"
   ]
  },
  {
   "cell_type": "code",
   "execution_count": 39,
   "metadata": {},
   "outputs": [
    {
     "name": "stdout",
     "output_type": "stream",
     "text": [
      "Duplicate characters are ['o', 'g']\n"
     ]
    }
   ],
   "source": [
    "# 6. Write a Python to find all duplicate characters in string?\n",
    "def duplicate_characters(s):\n",
    "    duplicates = set()\n",
    "    strlen = len(s)\n",
    "    for i in range(strlen):\n",
    "        if(i != strlen) and (not s[i] in duplicates) and (s[i] in s[i+1:]):\n",
    "            duplicates.add(s[i])\n",
    "\n",
    "    print(f'Duplicate characters are {list(duplicates)}')\n",
    "\n",
    "duplicate_characters('google')"
   ]
  },
  {
   "cell_type": "code",
   "execution_count": 41,
   "metadata": {},
   "outputs": [
    {
     "name": "stdout",
     "output_type": "stream",
     "text": [
      "abdc$ is having special character\n"
     ]
    }
   ],
   "source": [
    "# 7. Write a Python Program to check if a string contains any special character?\n",
    "import re\n",
    "def is_having_special_character(s):\n",
    "    if(bool(re.match('^[a-zA-Z0-9]*$',s))==False):\n",
    "        print(f\"{s} is having special character\")\n",
    "    else:\n",
    "        print(f\"{s} is not having special character\")\n",
    "\n",
    "is_having_special_character('abdc$')"
   ]
  }
 ],
 "metadata": {
  "kernelspec": {
   "display_name": "Python 3.9.6 64-bit",
   "language": "python",
   "name": "python3"
  },
  "language_info": {
   "codemirror_mode": {
    "name": "ipython",
    "version": 3
   },
   "file_extension": ".py",
   "mimetype": "text/x-python",
   "name": "python",
   "nbconvert_exporter": "python",
   "pygments_lexer": "ipython3",
   "version": "3.9.6"
  },
  "orig_nbformat": 4,
  "vscode": {
   "interpreter": {
    "hash": "31f2aee4e71d21fbe5cf8b01ff0e069b9275f58929596ceb00d14d90e3e16cd6"
   }
  }
 },
 "nbformat": 4,
 "nbformat_minor": 2
}
