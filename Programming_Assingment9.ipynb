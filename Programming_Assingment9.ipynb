{
 "cells": [
  {
   "cell_type": "code",
   "execution_count": null,
   "metadata": {},
   "outputs": [],
   "source": [
    "# 1. Write a Python program to check if the given number is a Disarium Number?\n",
    "import math\n",
    "def is_disarium_number(n):\n",
    "    l = len(str(n))\n",
    "    b = n\n",
    "    s =  0\n",
    "    while l >=1:\n",
    "        s += math.pow((n%10), l)\n",
    "        n = n//10\n",
    "        l -= 1\n",
    "        \n",
    "    return b == s\n",
    "\n",
    "d = 175\n",
    "if is_disarium_number(d):\n",
    "    print(f\"{d} is a Disarium Number\")\n",
    "else: \n",
    "    print(f\"{d} is not a Disarium Number\")\n",
    "\n",
    "        \n",
    "\n"
   ]
  },
  {
   "cell_type": "code",
   "execution_count": null,
   "metadata": {},
   "outputs": [],
   "source": [
    "# 2. Write a Python program to print all disarium numbers between 1 to 100?\n",
    "disarium_numbers = filter(is_disarium_number, range(1,101))\n",
    "print(f\"Disarium numbers between 1 to 100 are - {list(disarium_numbers)}\")\n"
   ]
  },
  {
   "cell_type": "code",
   "execution_count": 5,
   "metadata": {},
   "outputs": [
    {
     "name": "stdout",
     "output_type": "stream",
     "text": [
      "13 is a Happy Number\n"
     ]
    }
   ],
   "source": [
    "# 3. Write a Python program to check if the given number is Happy Number?\n",
    "def is_happy_number(n):\n",
    "    past  = set()\n",
    "    \n",
    "    while not n==1:\n",
    "        t = n\n",
    "        s = 0\n",
    "        while t > 0:\n",
    "            s += (t%10)**2\n",
    "            t = t//10 \n",
    "            \n",
    "        n = s\n",
    "        if n in past:\n",
    "            return False\n",
    "        past.add(n)\n",
    "        \n",
    "    return True\n",
    "\n",
    "i = 13\n",
    "if is_happy_number(i):\n",
    "    print(f\"{i} is a Happy Number\")\n",
    "else: \n",
    "    print(f\"{i} is not a Happy Number\")"
   ]
  },
  {
   "cell_type": "code",
   "execution_count": 6,
   "metadata": {},
   "outputs": [
    {
     "name": "stdout",
     "output_type": "stream",
     "text": [
      "Happy numbers between 1 to 100 are - [1, 7, 10, 13, 19, 23, 28, 31, 32, 44, 49, 68, 70, 79, 82, 86, 91, 94, 97, 100]\n"
     ]
    }
   ],
   "source": [
    "# 4. Write a Python program to print all happy numbers between 1 and 100?\n",
    "happy_numbers = filter(is_happy_number, range(1,101))\n",
    "print(f\"Happy numbers between 1 to 100 are - {list(happy_numbers)}\")"
   ]
  },
  {
   "cell_type": "code",
   "execution_count": 10,
   "metadata": {},
   "outputs": [
    {
     "name": "stdout",
     "output_type": "stream",
     "text": [
      "18 is a Harshad Number\n"
     ]
    }
   ],
   "source": [
    "# 5. Write a Python program to determine whether the given number is a Harshad Number?\n",
    "def is_harshad_number(n):\n",
    "    digit_sum = sum(int(i) for i in str(n))\n",
    "    return (n % digit_sum) == 0\n",
    "\n",
    "i = 18\n",
    "if is_harshad_number(i):\n",
    "    print(f\"{i} is a Harshad Number\")\n",
    "else: \n",
    "    print(f\"{i} is not a Harshad Number\")\n"
   ]
  },
  {
   "cell_type": "code",
   "execution_count": 11,
   "metadata": {},
   "outputs": [
    {
     "name": "stdout",
     "output_type": "stream",
     "text": [
      "Happy numbers between 1 to 100 are - [1, 2, 3, 4, 5, 6, 7, 8, 9, 10, 12, 18, 20, 21, 24, 27, 30, 36, 40, 42, 45, 48, 50, 54, 60, 63, 70, 72, 80, 81, 84, 90, 100]\n"
     ]
    }
   ],
   "source": [
    "# 6. Write a Python program to print all pronic numbers between 1 and 100?\n",
    "harshad_numbers = filter(is_harshad_number, range(1,101))\n",
    "print(f\"Happy numbers between 1 to 100 are - {list(harshad_numbers)}\")"
   ]
  }
 ],
 "metadata": {
  "kernelspec": {
   "display_name": "Python 3.9.6 64-bit",
   "language": "python",
   "name": "python3"
  },
  "language_info": {
   "codemirror_mode": {
    "name": "ipython",
    "version": 3
   },
   "file_extension": ".py",
   "mimetype": "text/x-python",
   "name": "python",
   "nbconvert_exporter": "python",
   "pygments_lexer": "ipython3",
   "version": "3.9.6"
  },
  "orig_nbformat": 4,
  "vscode": {
   "interpreter": {
    "hash": "31f2aee4e71d21fbe5cf8b01ff0e069b9275f58929596ceb00d14d90e3e16cd6"
   }
  }
 },
 "nbformat": 4,
 "nbformat_minor": 2
}
