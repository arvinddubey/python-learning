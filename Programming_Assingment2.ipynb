{
 "cells": [
  {
   "cell_type": "code",
   "execution_count": 1,
   "metadata": {},
   "outputs": [
    {
     "name": "stdout",
     "output_type": "stream",
     "text": [
      "10 kilometers is equal to 6.215040397762586 miles\n"
     ]
    }
   ],
   "source": [
    "#1. Write a Python program to convert kilometers to miles?\n",
    "def km_to_miles(kilometers):\n",
    "    if(kilometers < 1):\n",
    "        print(\"Please enter positive number\")\n",
    "        return\n",
    "    miles = kilometers/1.609\n",
    "    print(f\"{kilometers} kilometers is equal to {miles} miles\")\n",
    "\n",
    "\n",
    "km_to_miles(10)"
   ]
  },
  {
   "cell_type": "code",
   "execution_count": 2,
   "metadata": {},
   "outputs": [
    {
     "name": "stdout",
     "output_type": "stream",
     "text": [
      "90 Celsius is equal to 194.0 Fahrenheit\n"
     ]
    }
   ],
   "source": [
    "#2. Write a Python program to convert Celsius to Fahrenheit?\n",
    "def celsius_to_fahrenheit(celsius):\n",
    "    if(celsius < 1):\n",
    "        print(\"Please enter positive number\")\n",
    "        return\n",
    "    fahrenheite = (celsius * 9/5) + 32\n",
    "    print(f\"{celsius} Celsius is equal to {fahrenheite} Fahrenheit\")\n",
    "\n",
    "celsius_to_fahrenheit(90)\n"
   ]
  },
  {
   "cell_type": "code",
   "execution_count": 5,
   "metadata": {},
   "outputs": [
    {
     "data": {
      "text/plain": [
       "'   December 2022\\nMo Tu We Th Fr Sa Su\\n          1  2  3  4\\n 5  6  7  8  9 10 11\\n12 13 14 15 16 17 18\\n19 20 21 22 23 24 25\\n26 27 28 29 30 31\\n'"
      ]
     },
     "execution_count": 5,
     "metadata": {},
     "output_type": "execute_result"
    }
   ],
   "source": [
    "#3. Write a Python program to display calendar?\n",
    "import calendar\n",
    "calendar.calendar(2022)\n",
    "calendar.month(2022, 12)"
   ]
  },
  {
   "cell_type": "code",
   "execution_count": 2,
   "metadata": {},
   "outputs": [
    {
     "name": "stdout",
     "output_type": "stream",
     "text": [
      "The solution are (-0.75-1.3919410907075054j) and (-0.75+1.3919410907075054j)\n"
     ]
    }
   ],
   "source": [
    "#4. Write a Python program to solve quadratic equation?\n",
    "# formaula (-b + sqrt(b2-4ac))/2a or (-b - sqrt(b2-4ac))/2a\n",
    "import cmath  \n",
    "def quadratic_equation(a, b, c):\n",
    "    # calculate the discriminant  \n",
    "    d = (b**2) - (4*a*c)  \n",
    "    \n",
    "    # find two solutions  \n",
    "    sol1 = (-b-cmath.sqrt(d))/(2*a)  \n",
    "    sol2 = (-b+cmath.sqrt(d))/(2*a)  \n",
    "    print(f'The solution are {sol1} and {sol2}') \n",
    "\n",
    "quadratic_equation(2, 3, 5)  "
   ]
  },
  {
   "cell_type": "code",
   "execution_count": 3,
   "metadata": {},
   "outputs": [
    {
     "name": "stdout",
     "output_type": "stream",
     "text": [
      "a and b are 10, 5\n"
     ]
    }
   ],
   "source": [
    "#5. Write a Python program to swap two variables without temp variable?\n",
    "a,b = 5,10\n",
    "a = a+b\n",
    "b = a - b \n",
    "a = a - b\n",
    "\n",
    "print(f\"a and b are {a}, {b}\")"
   ]
  }
 ],
 "metadata": {
  "kernelspec": {
   "display_name": "Python 3.9.6 64-bit",
   "language": "python",
   "name": "python3"
  },
  "language_info": {
   "codemirror_mode": {
    "name": "ipython",
    "version": 3
   },
   "file_extension": ".py",
   "mimetype": "text/x-python",
   "name": "python",
   "nbconvert_exporter": "python",
   "pygments_lexer": "ipython3",
   "version": "3.9.6"
  },
  "orig_nbformat": 4,
  "vscode": {
   "interpreter": {
    "hash": "31f2aee4e71d21fbe5cf8b01ff0e069b9275f58929596ceb00d14d90e3e16cd6"
   }
  }
 },
 "nbformat": 4,
 "nbformat_minor": 2
}
