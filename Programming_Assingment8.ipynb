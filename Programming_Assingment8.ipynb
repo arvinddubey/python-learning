{
 "cells": [
  {
   "cell_type": "code",
   "execution_count": 24,
   "metadata": {},
   "outputs": [
    {
     "name": "stdout",
     "output_type": "stream",
     "text": [
      "[[5, 9, 10], [13, 10, 12], [14, 13, 15]]\n"
     ]
    }
   ],
   "source": [
    "# 1. Write a Python Program to Add Two Matrices?\n",
    "matrix_a =  [\n",
    "    [2, 4, 3],\n",
    "    [5, 7, 8],\n",
    "    [9, 6, 7]\n",
    "]\n",
    "\n",
    "matrix_b =  [\n",
    "    [3, 5, 7],\n",
    "    [8, 3, 4],\n",
    "    [5, 7, 8]\n",
    "]\n",
    "rows = len(matrix_a)\n",
    "cols = len(matrix_a[0])\n",
    "\n",
    "result = []\n",
    "for i in range(0, rows):\n",
    "    row = []\n",
    "    for j in range(0, cols):\n",
    "        s = matrix_a[i][j] + matrix_b[i][j]\n",
    "        row.append(s)\n",
    "    \n",
    "    result.append(row)\n",
    "\n",
    "print(result)\n",
    "        "
   ]
  },
  {
   "cell_type": "code",
   "execution_count": 32,
   "metadata": {},
   "outputs": [
    {
     "name": "stdout",
     "output_type": "stream",
     "text": [
      "[[136, 380, 172], [215, 424, 386], [163, 371, 259]]\n"
     ]
    }
   ],
   "source": [
    "# 2. Write a Python Program to Multiply Two Matrices?\n",
    "matrix_a =  [\n",
    "    [12, 8, 4],\n",
    "    [3, 17, 14],\n",
    "    [9, 8, 10]\n",
    "]\n",
    "\n",
    "matrix_b =  [\n",
    "    [5, 19, 3],\n",
    "    [6, 15, 9],\n",
    "    [7, 8, 16]\n",
    "]\n",
    "a_cols = len(matrix_a[0])\n",
    "a_rows = len(matrix_a)\n",
    "b_cols = len(matrix_b[0])\n",
    "b_rows = len(matrix_b)\n",
    "\n",
    "if a_cols != b_rows:\n",
    "    print(\"This matrix is not compactible for multiplication\")\n",
    "else:\n",
    "    result = []\n",
    "    for i in range(0, a_cols):\n",
    "        row = []\n",
    "        for k in range(0, b_cols):\n",
    "            s = 0\n",
    "            for j in range(0, b_rows):\n",
    "                s += matrix_a[i][j] * matrix_b[j][k]\n",
    "            row.append(s)\n",
    "        result.append(row)\n",
    "    \n",
    "    \n",
    "    print(result)"
   ]
  },
  {
   "cell_type": "code",
   "execution_count": 42,
   "metadata": {},
   "outputs": [
    {
     "name": "stdout",
     "output_type": "stream",
     "text": [
      "[[12, 3, 9], [8, 17, 8]]\n"
     ]
    }
   ],
   "source": [
    "# 3. Write a Python Program to Transpose a Matrix?\n",
    "matrix_a =  [\n",
    "    [12, 8],\n",
    "    [3, 17],\n",
    "    [9, 8]\n",
    "]\n",
    "\n",
    "a_rows = len(matrix_a)\n",
    "a_cols = len(matrix_a[0])\n",
    "transpose_a = []\n",
    "for i in range(0, a_cols):\n",
    "    row = []\n",
    "    for j in range(0, a_rows):\n",
    "        row.append(matrix_a[j][i])\n",
    "    transpose_a.append(row)\n",
    "\n",
    "print(transpose_a)"
   ]
  },
  {
   "cell_type": "code",
   "execution_count": 56,
   "metadata": {},
   "outputs": [
    {
     "name": "stdout",
     "output_type": "stream",
     "text": [
      "for hey!, input is my sorting string testing this\n"
     ]
    }
   ],
   "source": [
    "# 4. Write a Python Program to Sort Words in Alphabetic Order?\n",
    "def sort_string(s):\n",
    "    words = s.split(\" \")\n",
    "    for i in range(len(words)):\n",
    "        words[i] = words[i].lower()\n",
    "    t = \" \".join(sorted(words))\n",
    "    return t\n",
    "\n",
    "print(sort_string(\"Hey!, This is my testing string for sorting input\"))"
   ]
  },
  {
   "cell_type": "code",
   "execution_count": 67,
   "metadata": {},
   "outputs": [
    {
     "name": "stdout",
     "output_type": "stream",
     "text": [
      "Hey Hello Mrs X How are you Whats going on\n",
      "Hey Hello Mrs X How are you Whats going on\n"
     ]
    }
   ],
   "source": [
    "# 5. Write a Python Program to Remove Punctuation From a String?\n",
    "import string\n",
    "\n",
    "#first approach\n",
    "s = \"Hey!, Hello Mrs X, How are you? What's going on?\"\n",
    "t = ''\n",
    "for i in s:\n",
    "    if not i in string.punctuation:\n",
    "        t +=i\n",
    "\n",
    "print(t)\n",
    "\n",
    "#second approach\n",
    "stran_s = s.translate(str.maketrans('', '', string.punctuation))\n",
    "\n",
    "print(stran_s)\n"
   ]
  },
  {
   "cell_type": "code",
   "execution_count": null,
   "metadata": {},
   "outputs": [],
   "source": []
  }
 ],
 "metadata": {
  "kernelspec": {
   "display_name": "Python 3.9.6 64-bit",
   "language": "python",
   "name": "python3"
  },
  "language_info": {
   "codemirror_mode": {
    "name": "ipython",
    "version": 3
   },
   "file_extension": ".py",
   "mimetype": "text/x-python",
   "name": "python",
   "nbconvert_exporter": "python",
   "pygments_lexer": "ipython3",
   "version": "3.9.6"
  },
  "orig_nbformat": 4,
  "vscode": {
   "interpreter": {
    "hash": "31f2aee4e71d21fbe5cf8b01ff0e069b9275f58929596ceb00d14d90e3e16cd6"
   }
  }
 },
 "nbformat": 4,
 "nbformat_minor": 2
}
